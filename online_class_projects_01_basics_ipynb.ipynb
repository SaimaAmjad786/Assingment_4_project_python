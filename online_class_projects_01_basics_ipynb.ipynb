{
  "nbformat": 4,
  "nbformat_minor": 0,
  "metadata": {
    "colab": {
      "provenance": [],
      "authorship_tag": "ABX9TyNYqvsD3ty/7zxXQjM5dnM4",
      "include_colab_link": true
    },
    "kernelspec": {
      "name": "python3",
      "display_name": "Python 3"
    },
    "language_info": {
      "name": "python"
    }
  },
  "cells": [
    {
      "cell_type": "markdown",
      "metadata": {
        "id": "view-in-github",
        "colab_type": "text"
      },
      "source": [
        "<a href=\"https://colab.research.google.com/github/SaimaAmjad786/Assingment_4_project_python/blob/main/online_class_projects_01_basics_ipynb.ipynb\" target=\"_parent\"><img src=\"https://colab.research.google.com/assets/colab-badge.svg\" alt=\"Open In Colab\"/></a>"
      ]
    },
    {
      "cell_type": "code",
      "execution_count": null,
      "metadata": {
        "colab": {
          "base_uri": "https://localhost:8080/"
        },
        "id": "pqQPCSkouw3I",
        "outputId": "71c7975a-26a0-4bb7-c57e-675137c585a6"
      },
      "outputs": [
        {
          "output_type": "stream",
          "name": "stdout",
          "text": [
            "00_joke_bot\n",
            "🤖 00_joke_bot is ready!\n",
            "What do you want? Sorry, I only tell jokes.\n",
            "Why don’t skeletons fight each other?\n",
            "Because they don’t have the guts! 😆\n"
          ]
        }
      ],
      "source": [
        "print(\"00_joke_bot\")\n",
        "PROMPT: str = \"What do you want? \"\n",
        "JOKE: str = \"Why don’t skeletons fight each other?\\nBecause they don’t have the guts! 😆\"\n",
        "SORRY: str = \"Sorry, I only tell jokes.\"\n",
        "\n",
        "def main():\n",
        "    print(\"🤖 00_joke_bot is ready!\")\n",
        "    user_input = input(PROMPT)\n",
        "    user_input = user_input.strip().lower()\n",
        "\n",
        "    if \"joke\" in user_input:\n",
        "        print(JOKE)\n",
        "    else:\n",
        "        print(SORRY)\n",
        "\n",
        "if __name__ == \"__main__\":\n",
        "    main()\n"
      ]
    },
    {
      "cell_type": "code",
      "source": [
        "print(\"01_double_it\")\n",
        "\n",
        "\n",
        "\n",
        "import time\n",
        "\n",
        "def main():\n",
        "    print(\"🎲 Welcome to double_it!\")\n",
        "    user_value = int(input(\"Enter a number: \"))\n",
        "\n",
        "    while user_value < 100:\n",
        "        print(f\"🔄 Doubling {user_value}...\")\n",
        "        time.sleep(0.5)\n",
        "        user_value *= 2\n",
        "        print(f\"✨ New Value: {user_value}\\n\")\n",
        "\n",
        "    print(\"🎉 Done! Your number is now 100 or more!\")\n",
        "\n",
        "if __name__ == \"__main__\":\n",
        "    main()"
      ],
      "metadata": {
        "colab": {
          "base_uri": "https://localhost:8080/"
        },
        "id": "6xvHAOQ4uyQu",
        "outputId": "059582dd-cd54-40a7-ac06-06c5b366d44c"
      },
      "execution_count": null,
      "outputs": [
        {
          "output_type": "stream",
          "name": "stdout",
          "text": [
            "01_double_it\n",
            "🎲 Welcome to double_it!\n",
            "Enter a number: 4\n",
            "🔄 Doubling 4...\n",
            "✨ New Value: 8\n",
            "\n",
            "🔄 Doubling 8...\n",
            "✨ New Value: 16\n",
            "\n",
            "🔄 Doubling 16...\n",
            "✨ New Value: 32\n",
            "\n",
            "🔄 Doubling 32...\n",
            "✨ New Value: 64\n",
            "\n",
            "🔄 Doubling 64...\n",
            "✨ New Value: 128\n",
            "\n",
            "🎉 Done! Your number is now 100 or more!\n"
          ]
        }
      ]
    },
    {
      "cell_type": "code",
      "source": [
        "def main():\n",
        "    print(\"02_liftoff\")\n",
        "\n",
        "    for i in range(10, 0, -1):\n",
        "        print(i, end=\" \")\n",
        "    print(\"liftoff🚀\")\n",
        "\n",
        "if __name__ == \"__main__\":\n",
        "    main()"
      ],
      "metadata": {
        "colab": {
          "base_uri": "https://localhost:8080/"
        },
        "id": "ebOHt5EQw9Ax",
        "outputId": "93ce3d76-8721-4bcc-dcf6-b138d60a22be"
      },
      "execution_count": null,
      "outputs": [
        {
          "output_type": "stream",
          "name": "stdout",
          "text": [
            "02_liftoff\n",
            "10 9 8 7 6 5 4 3 2 1 liftoff🚀\n"
          ]
        }
      ]
    },
    {
      "cell_type": "code",
      "source": [
        "import random\n",
        "\n",
        "def main():\n",
        "    print(\"🎯 03_guess_my_number\\n\")\n",
        "\n",
        "    secret_number = random.randint(1, 100)\n",
        "    print(\"I am thinking of a number between 1 and 100...\")\n",
        "\n",
        "    guess = int(input(\"Enter a guess: \"))\n",
        "\n",
        "    while guess != secret_number:\n",
        "        if guess < secret_number:\n",
        "            print(\"Your guess is too low.\")\n",
        "        else:\n",
        "            print(\"Your guess is too high.\")\n",
        "        guess = int(input(\"Enter a guess: \"))\n",
        "\n",
        "    print(f\"🎉 Congratulations! The number was {secret_number}.\")\n",
        "\n",
        "if __name__ == \"__main__\":\n",
        "    main()"
      ],
      "metadata": {
        "colab": {
          "base_uri": "https://localhost:8080/"
        },
        "id": "E8XtkQPqw-7n",
        "outputId": "b4225294-a01c-469e-b52f-aab860fb954c"
      },
      "execution_count": null,
      "outputs": [
        {
          "output_type": "stream",
          "name": "stdout",
          "text": [
            "🎯 03_guess_my_number\n",
            "\n",
            "I am thinking of a number between 1 and 100...\n",
            "Enter a guess: 6\n",
            "Your guess is too low.\n",
            "Enter a guess: 89\n",
            "Your guess is too high.\n",
            "Enter a guess: 87\n",
            "Your guess is too high.\n",
            "Enter a guess: 70\n",
            "Your guess is too high.\n",
            "Enter a guess: 60\n",
            "Your guess is too high.\n",
            "Enter a guess: 50\n",
            "Your guess is too low.\n",
            "Enter a guess: 40\n",
            "Your guess is too low.\n",
            "Enter a guess: 42\n",
            "Your guess is too low.\n",
            "Enter a guess: 44\n",
            "Your guess is too low.\n",
            "Enter a guess: 45\n",
            "Your guess is too low.\n",
            "Enter a guess: 47\n",
            "Your guess is too low.\n",
            "Enter a guess: 46\n",
            "Your guess is too low.\n",
            "Enter a guess: 48\n",
            "Your guess is too low.\n",
            "Enter a guess: 49\n",
            "Your guess is too low.\n",
            "Enter a guess: 60\n",
            "Your guess is too high.\n",
            "Enter a guess: 57\n",
            "Your guess is too low.\n",
            "Enter a guess: 59\n",
            "🎉 Congratulations! The number was 59.\n"
          ]
        }
      ]
    },
    {
      "cell_type": "code",
      "source": [
        "import random\n",
        "print(\"04_random_numbers\")\n",
        "\n",
        "def main():\n",
        "  for _ in range(10):\n",
        "    print(random.randint(1,100),end = \" \")\n",
        "\n",
        "if __name__ == \"__main__\":\n",
        "  main()"
      ],
      "metadata": {
        "colab": {
          "base_uri": "https://localhost:8080/"
        },
        "id": "DVx084_qxF85",
        "outputId": "26e7b0b3-460c-4128-d452-ba8963712f0d"
      },
      "execution_count": null,
      "outputs": [
        {
          "output_type": "stream",
          "name": "stdout",
          "text": [
            "04_random_numbers\n",
            "46 75 31 3 26 89 33 86 34 52 "
          ]
        }
      ]
    }
  ]
}