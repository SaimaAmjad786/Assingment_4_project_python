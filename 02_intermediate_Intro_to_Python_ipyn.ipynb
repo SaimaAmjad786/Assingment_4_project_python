{
  "nbformat": 4,
  "nbformat_minor": 0,
  "metadata": {
    "colab": {
      "provenance": [],
      "authorship_tag": "ABX9TyOIydUaMrXE9Vfdq0wddjPn",
      "include_colab_link": true
    },
    "kernelspec": {
      "name": "python3",
      "display_name": "Python 3"
    },
    "language_info": {
      "name": "python"
    }
  },
  "cells": [
    {
      "cell_type": "markdown",
      "metadata": {
        "id": "view-in-github",
        "colab_type": "text"
      },
      "source": [
        "<a href=\"https://colab.research.google.com/github/SaimaAmjad786/Assingment_4_project_python/blob/main/02_intermediate_Intro_to_Python_ipyn.ipynb\" target=\"_parent\"><img src=\"https://colab.research.google.com/assets/colab-badge.svg\" alt=\"Open In Colab\"/></a>"
      ]
    },
    {
      "cell_type": "code",
      "execution_count": null,
      "metadata": {
        "colab": {
          "base_uri": "https://localhost:8080/"
        },
        "id": "-GScU8gq0G1D",
        "outputId": "7a6b8e50-cec3-4f45-dfaa-80acd57b340c"
      },
      "outputs": [
        {
          "output_type": "stream",
          "name": "stdout",
          "text": [
            "Planetary Weight Calculator\n",
            "Welcome to the Planetary Weight Calculator\n",
            "******************************************\n",
            "Enter your weight on Earth (kg): 20\n",
            "\n",
            "Select a planet from the list below:\n",
            "- Mercury\n",
            "- Venus\n",
            "- Mars\n",
            "- Jupiter\n",
            "- Saturn\n",
            "- Uranus\n",
            "- Neptune\n",
            "Enter the name of the planet: venus\n",
            "\n",
            "Your weight on Venus would be 18.20 kg\n"
          ]
        }
      ],
      "source": [
        "print(\"Planetary Weight Calculator\")\n",
        "\n",
        "def main():\n",
        "    print(\"Welcome to the Planetary Weight Calculator\")\n",
        "    print(\"******************************************\")\n",
        "\n",
        "    earth_weight = float(input(\"Enter your weight on Earth (kg): \"))\n",
        "\n",
        "    gravity_ratios = {\n",
        "        \"Mercury\": 0.38,\n",
        "        \"Venus\": 0.91,\n",
        "        \"Mars\": 0.38,\n",
        "        \"Jupiter\": 2.34,\n",
        "        \"Saturn\": 1.06,\n",
        "        \"Uranus\": 0.92,\n",
        "        \"Neptune\": 1.19\n",
        "    }\n",
        "\n",
        "    print(\"\\nSelect a planet from the list below:\")\n",
        "    for planet in gravity_ratios:\n",
        "        print(f'- {planet}')\n",
        "\n",
        "    planet_choice = input(\"Enter the name of the planet: \").title()\n",
        "\n",
        "    if planet_choice in gravity_ratios:\n",
        "        new_weight = earth_weight * gravity_ratios[planet_choice]\n",
        "        print(f'\\nYour weight on {planet_choice} would be {new_weight:.2f} kg')\n",
        "    else:\n",
        "        print(\"\\nInvalid planet choice. Please check your spelling and try again.\")\n",
        "\n",
        "if __name__ == \"__main__\":\n",
        "    main()"
      ]
    }
  ]
}