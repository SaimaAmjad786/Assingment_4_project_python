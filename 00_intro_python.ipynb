{
  "nbformat": 4,
  "nbformat_minor": 0,
  "metadata": {
    "colab": {
      "provenance": [],
      "authorship_tag": "ABX9TyPs6JCFD5o8cvvV0/OO0sls",
      "include_colab_link": true
    },
    "kernelspec": {
      "name": "python3",
      "display_name": "Python 3"
    },
    "language_info": {
      "name": "python"
    }
  },
  "cells": [
    {
      "cell_type": "markdown",
      "metadata": {
        "id": "view-in-github",
        "colab_type": "text"
      },
      "source": [
        "<a href=\"https://colab.research.google.com/github/SaimaAmjad786/Assingment_4_project_python/blob/main/00_intro_python.ipynb\" target=\"_parent\"><img src=\"https://colab.research.google.com/assets/colab-badge.svg\" alt=\"Open In Colab\"/></a>"
      ]
    },
    {
      "cell_type": "code",
      "execution_count": null,
      "metadata": {
        "colab": {
          "base_uri": "https://localhost:8080/"
        },
        "id": "Hj88UWf25hyH",
        "outputId": "baf196ba-b67b-47d8-c8c7-63a8d46c7774"
      },
      "outputs": [
        {
          "output_type": "stream",
          "name": "stdout",
          "text": [
            "01_add_two_numbers\n",
            "This program adds two numbers. \n",
            "Enter first number: 5\n",
            "Enter second number: 10\n",
            "the total sum of 5 and 10 is 15\n"
          ]
        }
      ],
      "source": [
        "print(\"01_add_two_numbers\")\n",
        "def main():\n",
        "  print(\"This program adds two numbers. \")\n",
        "  first_number=int(input(\"Enter first number: \"))\n",
        "  second_number=int(input(\"Enter second number: \"))\n",
        "  total=int(first_number + second_number)\n",
        "  print(f'the total sum of {first_number} and {second_number} is {total}')\n",
        "\n",
        "# This provided line is required at the end of\n",
        "# Python file to call the main() function.\n",
        "\n",
        "if __name__ == '__main__':\n",
        "\n",
        "  main()"
      ]
    },
    {
      "cell_type": "code",
      "source": [
        "print(\"02_agreement_bot\")\n",
        "\n",
        "def main():\n",
        "    animal = input(\"What's your favorite animal ? \")\n",
        "    print(f'My favorite animal is also {animal}!')\n",
        "\n",
        "    # This provided line is required at the end of\n",
        "# Python file to call the main() function.\n",
        "\n",
        "if __name__ == \"__main__\":\n",
        "    main()\n"
      ],
      "metadata": {
        "colab": {
          "base_uri": "https://localhost:8080/"
        },
        "id": "TIWj6Xx_5uFz",
        "outputId": "9223ad80-af89-4c53-d244-7431f087735c"
      },
      "execution_count": null,
      "outputs": [
        {
          "output_type": "stream",
          "name": "stdout",
          "text": [
            "02_agreement_bot\n",
            "What's your favorite animal ? parrot\n",
            "My favorite animal is also parrot!\n"
          ]
        }
      ]
    },
    {
      "cell_type": "code",
      "source": [
        "print(\"03_fahrenheit_to_celsius\")\n",
        "\n",
        "def main():\n",
        "    print(\"This code is for converting Fahrenheit to Celsius\")\n",
        "    fahrenheit_degree = float(input(\"Enter your Fahrenheit degree: \"))\n",
        "    celsius_degree = (fahrenheit_degree - 32) * 5 / 9.0\n",
        "    print(f'Temperature {fahrenheit_degree}F = {celsius_degree:.2f}C')\n",
        "\n",
        "    # This provided line is required at the end of\n",
        "# Python file to call the main() function.\n",
        "\n",
        "if __name__ == \"__main__\":\n",
        "    main()\n",
        "\n",
        "\n"
      ],
      "metadata": {
        "colab": {
          "base_uri": "https://localhost:8080/"
        },
        "id": "WDI1vmil5yWM",
        "outputId": "b429117c-6ca7-4776-89a3-8bc08d62c50f"
      },
      "execution_count": null,
      "outputs": [
        {
          "output_type": "stream",
          "name": "stdout",
          "text": [
            "03_fahrenheit_to_celsius\n",
            "This code is for converting Fahrenheit to Celsius\n",
            "Enter your Fahrenheit degree: 67\n",
            "Temperature 67.0F = 19.44C\n"
          ]
        }
      ]
    },
    {
      "cell_type": "code",
      "source": [
        "print(\"04_how_old_are_they\")\n",
        "\n",
        "def main():\n",
        "    anton: int = 21  # Anton's age is given as 21 years old\n",
        "    beth: int = 6 + anton  # Beth is 6 years older than Anton\n",
        "    chen: int = 20 + beth  # Chen is 20 years older than Beth\n",
        "    drew: int = chen + anton  # Drew is as old as Chen's age plus Anton's age\n",
        "    ethan: int = chen  # Ethan's age is equal to Chen's age\n",
        "\n",
        "    # Print out all of the ages!\n",
        "\n",
        "    print(f\"Anton is {anton} years old.\")\n",
        "    print(f\"Beth is {beth} years old.\")\n",
        "    print(f\"Chen is {chen} years old.\")\n",
        "    print(f\"Drew is {drew} years old.\")\n",
        "    print(f\"Ethan is {ethan} years old.\")\n",
        "\n",
        "if __name__ == \"__main__\":\n",
        "    main()\n"
      ],
      "metadata": {
        "colab": {
          "base_uri": "https://localhost:8080/"
        },
        "id": "w6LqDku55zi9",
        "outputId": "0d81486a-0fa2-45eb-ab05-cef4280718b4"
      },
      "execution_count": null,
      "outputs": [
        {
          "output_type": "stream",
          "name": "stdout",
          "text": [
            "04_how_old_are_they\n",
            "Anton is 21 years old.\n",
            "Beth is 27 years old.\n",
            "Chen is 47 years old.\n",
            "Drew is 68 years old.\n",
            "Ethan is 47 years old.\n"
          ]
        }
      ]
    },
    {
      "cell_type": "code",
      "source": [
        "print(\"05_triangle_perimeter\")\n",
        "\n",
        "def triangle(a, b, c):\n",
        "    \"\"\"Check if three sides can form a valid triangle.\"\"\"\n",
        "    return a + b > c and a + c > b and b + c > a\n",
        "\n",
        "def main():\n",
        "    print(\"This program calculates the perimeter of a triangle.\")\n",
        "\n",
        "    try:\n",
        "        # Get the 3 side lengths of the triangle\n",
        "        side1 = float(input(\"Enter the first side of the triangle: \"))\n",
        "        side2 = float(input(\"Enter the second side of the triangle: \"))\n",
        "        side3 = float(input(\"Enter the third side of the triangle: \"))\n",
        "\n",
        "        # Validate input values\n",
        "        if side1 <= 0 or side2 <= 0 or side3 <= 0:\n",
        "            print(\"Error: Side lengths must be positive numbers.\")\n",
        "            return\n",
        "\n",
        "        # Check if the sides form a valid triangle\n",
        "        if triangle(side1, side2, side3):\n",
        "            perimeter = side1 + side2 + side3\n",
        "            print(f\"The perimeter of the triangle is: {perimeter:.2f}\")\n",
        "        else:\n",
        "            print(\"Error: The given sides do not form a valid triangle.\")\n",
        "\n",
        "    except ValueError:\n",
        "        print(\"Invalid input! Please enter numeric values.\")\n",
        "\n",
        "if __name__ == '__main__':\n",
        "    main()\n"
      ],
      "metadata": {
        "colab": {
          "base_uri": "https://localhost:8080/"
        },
        "id": "fzmsiWE755v1",
        "outputId": "8ce1b448-2a5e-40b7-871a-62880cd14401"
      },
      "execution_count": null,
      "outputs": [
        {
          "output_type": "stream",
          "name": "stdout",
          "text": [
            "05_triangle_perimeter\n",
            "This program calculates the perimeter of a triangle.\n",
            "Enter the first side of the triangle: 5\n",
            "Enter the second side of the triangle: 10\n",
            "Enter the third side of the triangle: 6\n",
            "The perimeter of the triangle is: 21.00\n"
          ]
        }
      ]
    },
    {
      "cell_type": "code",
      "source": [
        "print(\"06_square_number\")\n",
        "\n",
        "def main():\n",
        "    try:\n",
        "        num = float(input(\"Type a number to see its square: \"))  # Convert input to float\n",
        "        print(f\"{num} squared is {num ** 2}\")  # Use f-string for better readability\n",
        "    except ValueError:\n",
        "        print(\"Invalid input! Please enter a valid number.\")  # Handle non-numeric input\n",
        "\n",
        "if __name__ == '__main__':\n",
        "    main()\n"
      ],
      "metadata": {
        "colab": {
          "base_uri": "https://localhost:8080/"
        },
        "id": "7DsZpdo15-00",
        "outputId": "91693c88-7008-46f9-db02-63add1a785f3"
      },
      "execution_count": null,
      "outputs": [
        {
          "output_type": "stream",
          "name": "stdout",
          "text": [
            "06_square_number\n",
            "Type a number to see its square: 10\n",
            "10.0 squared is 100.0\n"
          ]
        }
      ]
    }
  ]
}