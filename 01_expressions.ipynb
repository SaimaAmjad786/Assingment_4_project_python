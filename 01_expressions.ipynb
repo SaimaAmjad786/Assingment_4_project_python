{
  "nbformat": 4,
  "nbformat_minor": 0,
  "metadata": {
    "colab": {
      "provenance": [],
      "authorship_tag": "ABX9TyMHEEV944p1A+kJ2Cz9N4iS",
      "include_colab_link": true
    },
    "kernelspec": {
      "name": "python3",
      "display_name": "Python 3"
    },
    "language_info": {
      "name": "python"
    }
  },
  "cells": [
    {
      "cell_type": "markdown",
      "metadata": {
        "id": "view-in-github",
        "colab_type": "text"
      },
      "source": [
        "<a href=\"https://colab.research.google.com/github/SaimaAmjad786/Assingment_4_project_python/blob/main/01_expressions.ipynb\" target=\"_parent\"><img src=\"https://colab.research.google.com/assets/colab-badge.svg\" alt=\"Open In Colab\"/></a>"
      ]
    },
    {
      "cell_type": "code",
      "execution_count": null,
      "metadata": {
        "id": "QeFSSK9lZ2Mg",
        "colab": {
          "base_uri": "https://localhost:8080/"
        },
        "outputId": "8eb63d0e-c021-43cb-97ea-f3e2868b29bc"
      },
      "outputs": [
        {
          "output_type": "stream",
          "name": "stdout",
          "text": [
            "01_dicesimulator\n",
            "die1 in main() starts as: 10\n",
            "Total of two dice: 9\n",
            "Total of two dice: 5\n",
            "Total of two dice: 5\n",
            "die1 in main() is: 10\n"
          ]
        }
      ],
      "source": [
        "import random\n",
        "print(\"01_dicesimulator\")\n",
        "\n",
        "def roll_dice():\n",
        "    die1:int = random.randint(1,6)  # Random roll for die1\n",
        "    die2:int = random.randint(1,6)  # Random roll for die2\n",
        "    total:int = die1 + die2  # Sum of the two dice\n",
        "    print(f'Total of two dice: {total}')  # Display the sum of the two dice\n",
        "\n",
        "def main():\n",
        "    die1:int = 10  # Initial value of die1 set to 10\n",
        "    print(\"die1 in main() starts as: \" + str(die1))  # Print the initial value of die1\n",
        "    roll_dice()  # Call the roll_dice function to simulate a dice roll and display result\n",
        "    roll_dice()  # Call the roll_dice function again for a new dice roll\n",
        "    roll_dice()  # Call the roll_dice function a third time for another roll\n",
        "    print(\"die1 in main() is: \" + str(die1))  # Print die1, which remains unchanged as 10\n",
        "\n",
        "if __name__ == \"__main__\":\n",
        "    main()  # Run the main function to execute the dice simulation\n"
      ]
    },
    {
      "cell_type": "code",
      "source": [
        "print(\"02_e=mc2\")\n",
        "\n",
        "def energy():\n",
        "    c:float = 299792458  # Speed of light in meters per second\n",
        "    m:float = float(input(\"Enter mass in kilograms: \"))  # Input for mass in kilograms\n",
        "    print(\"e = m*c^2\")  # Display the famous equation\n",
        "    print(\"Mass = \" + str(m) + \" kg\")  # Show the entered mass in kilograms\n",
        "    print(\"C = \"+ str(c) + \" m/s\")  # Show the speed of light in meters per second\n",
        "    print(\"e = \" + str(m * c ** 2) + \" joules\")  # Calculate and display the energy in joules\n",
        "\n",
        "if __name__ == \"__main__\":\n",
        "    energy()  # Call the energy function to calculate and display the energy\n",
        "130\n"
      ],
      "metadata": {
        "colab": {
          "base_uri": "https://localhost:8080/"
        },
        "id": "7B2N2Yi8gIzK",
        "outputId": "e85abf6d-1ae3-49c3-897d-5798c244a633"
      },
      "execution_count": null,
      "outputs": [
        {
          "output_type": "stream",
          "name": "stdout",
          "text": [
            "02_e=mc2\n",
            "Enter mass in kilograms: 450\n",
            "e = m*c^2\n",
            "Mass = 450.0 kg\n",
            "C = 299792458 m/s\n",
            "e = 4.0443983043156795e+19 joules\n"
          ]
        },
        {
          "output_type": "execute_result",
          "data": {
            "text/plain": [
              "130"
            ]
          },
          "metadata": {},
          "execution_count": 6
        }
      ]
    },
    {
      "cell_type": "code",
      "source": [
        "print(\"03_feet_to_inches\")\n",
        "\n",
        "inch: int = 12\n",
        "\n",
        "def foot():\n",
        "  feet:int = int(input(\"Enter feet and i will convert into inches. \"))\n",
        "  print(f'There are {inch * feet} inches in {feet} feet.')\n",
        "\n",
        "if __name__== \"__main__\":\n",
        "  foot()\n"
      ],
      "metadata": {
        "colab": {
          "base_uri": "https://localhost:8080/"
        },
        "id": "pUpUOqsTgsJn",
        "outputId": "a3480e0e-f75f-4afe-a1f8-ce9d9e8fb9a9"
      },
      "execution_count": null,
      "outputs": [
        {
          "output_type": "stream",
          "name": "stdout",
          "text": [
            "03_feet_to_inches\n",
            "Enter feet and i will convert into inches. 45\n",
            "There are 540 inches in 45 feet.\n"
          ]
        }
      ]
    },
    {
      "cell_type": "code",
      "source": [
        "import math\n",
        "print(\"04_pythagorean_theorem\")\n",
        "\n",
        "def triangle():\n",
        "  ab:float = float(input(\"Enter the length of the side ab. \"))\n",
        "  ac:float = float(input(\"Enter the length of the side ac. \"))\n",
        "  bc:float = math.sqrt(ab**2 + ac**2)\n",
        "  print(f'The length of bc (the hypothenuse is : {bc})')\n",
        "\n",
        "if __name__==\"__main__\":\n",
        "  triangle()"
      ],
      "metadata": {
        "colab": {
          "base_uri": "https://localhost:8080/"
        },
        "id": "ZXu6j8Rtg32g",
        "outputId": "b325e3f7-2a3f-4f6c-8204-a14d530b42f2"
      },
      "execution_count": null,
      "outputs": [
        {
          "output_type": "stream",
          "name": "stdout",
          "text": [
            "04_pythagorean_theorem\n",
            "Enter the length of the side ab. 5\n",
            "Enter the length of the side ac. 9.9\n",
            "The length of bc (the hypothenuse is : 11.090987332063815)\n"
          ]
        }
      ]
    },
    {
      "cell_type": "code",
      "source": [
        "print(\"05_remainder_division\")\n",
        "\n",
        "def reminder():\n",
        "  num1:int = int(input(\"Enter an integer to be divided: \"))\n",
        "  num2:int = int(input(\"Enter an integer to divide by: \"))\n",
        "  quotient:int = num1 // num2\n",
        "  remainder:int = num1 % num2\n",
        "  print(f'The result of following division is {quotient} with the reminder of {remainder}')\n",
        "\n",
        "if __name__ == \"__main__\":\n",
        "  reminder()\n"
      ],
      "metadata": {
        "colab": {
          "base_uri": "https://localhost:8080/"
        },
        "id": "D5KSaEPjg6tJ",
        "outputId": "95c7d678-e385-4827-fb28-64028cddc208"
      },
      "execution_count": null,
      "outputs": [
        {
          "output_type": "stream",
          "name": "stdout",
          "text": [
            "05_remainder_division\n",
            "Enter an integer to be divided: 45\n",
            "Enter an integer to divide by: 2\n",
            "The result of following division is 22 with the reminder of 1\n"
          ]
        }
      ]
    },
    {
      "cell_type": "code",
      "source": [
        "import random\n",
        "print(\"06_rolldice.\")\n",
        "\n",
        "def dice():\n",
        "  die1:int= random.randint(1,6)\n",
        "  die2:int  = random.randint(1,6)\n",
        "  total:int = int(die1 + die2)\n",
        "  print(\"First die: \" + str(die1))\n",
        "  print(\"Second die:\" + str(die2))\n",
        "  print(f'Total of two dies : {total}' )\n",
        "\n",
        "if __name__==\"__main__\":\n",
        "  dice()"
      ],
      "metadata": {
        "colab": {
          "base_uri": "https://localhost:8080/"
        },
        "id": "4v--TyL9g8-Y",
        "outputId": "5212b4c7-9bac-437d-ed44-55e83271b30d"
      },
      "execution_count": null,
      "outputs": [
        {
          "output_type": "stream",
          "name": "stdout",
          "text": [
            "06_rolldice.\n",
            "First die: 2\n",
            "Second die:5\n",
            "Total of two dies : 7\n"
          ]
        }
      ]
    },
    {
      "cell_type": "code",
      "source": [
        "print(\"06_seconds_in_year\")\n",
        "\n",
        "days_in_year:int = 365\n",
        "hours_per_day:int = 24\n",
        "minutes_per_hour:int = 60\n",
        "seconds_per_minute:int = 60\n",
        "\n",
        "def seconds():\n",
        "  print(f'There are {days_in_year * hours_per_day * minutes_per_hour * seconds_per_minute} seconds in a year!')\n",
        "\n",
        "if __name__==\"__main__\":\n",
        "  seconds()"
      ],
      "metadata": {
        "colab": {
          "base_uri": "https://localhost:8080/"
        },
        "id": "K_eh2J5ag_b6",
        "outputId": "36cc3a5b-6e2a-436e-b8ca-b6e7b49b04b4"
      },
      "execution_count": null,
      "outputs": [
        {
          "output_type": "stream",
          "name": "stdout",
          "text": [
            "06_seconds_in_year\n",
            "There are 31536000 seconds in a year!\n"
          ]
        }
      ]
    },
    {
      "cell_type": "code",
      "source": [
        "print(\"7_tiny_mad_lib\")\n",
        "\n",
        "def mad_lib():\n",
        "  noun:str = str(input(\"Enter a noun: \"))\n",
        "  adjective:str = str(input(\"Enter an adjective: \"))\n",
        "  verb:str = str(input(\"Enter a verb: \"))\n",
        "  print(f\"Do you {verb} your {adjective} {noun}?\")\n",
        "\n",
        "if __name__==\"__main__\":\n",
        "  mad_lib()"
      ],
      "metadata": {
        "colab": {
          "base_uri": "https://localhost:8080/"
        },
        "id": "OiZ5VDjfhCJZ",
        "outputId": "0ba2c575-c6f0-4e64-a9f0-e130f572a008"
      },
      "execution_count": null,
      "outputs": [
        {
          "output_type": "stream",
          "name": "stdout",
          "text": [
            "7_tiny_mad_lib\n",
            "Enter a noun: cat\n",
            "Enter an adjective: cute\n",
            "Enter a verb: sleep\n",
            "Do you sleep your cute cat?\n"
          ]
        }
      ]
    }
  ]
}